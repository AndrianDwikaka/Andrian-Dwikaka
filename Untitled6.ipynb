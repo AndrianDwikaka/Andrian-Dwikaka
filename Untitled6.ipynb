{
  "nbformat": 4,
  "nbformat_minor": 0,
  "metadata": {
    "colab": {
      "provenance": [],
      "authorship_tag": "ABX9TyNG0pq75+pj4ckw9yNwBB9F",
      "include_colab_link": true
    },
    "kernelspec": {
      "name": "python3",
      "display_name": "Python 3"
    },
    "language_info": {
      "name": "python"
    }
  },
  "cells": [
    {
      "cell_type": "markdown",
      "metadata": {
        "id": "view-in-github",
        "colab_type": "text"
      },
      "source": [
        "<a href=\"https://colab.research.google.com/github/AndrianDwikaka/Andrian-Dwikaka/blob/main/Untitled6.ipynb\" target=\"_parent\"><img src=\"https://colab.research.google.com/assets/colab-badge.svg\" alt=\"Open In Colab\"/></a>"
      ]
    },
    {
      "cell_type": "code",
      "execution_count": 1,
      "metadata": {
        "colab": {
          "base_uri": "https://localhost:8080/"
        },
        "id": "huN6KFkkKEGv",
        "outputId": "d85f00a3-3b28-4c6c-d83b-06b97c57383f"
      },
      "outputs": [
        {
          "output_type": "stream",
          "name": "stdout",
          "text": [
            "Halo[andrian dwikaka]! Selamat belajar python\n"
          ]
        }
      ],
      "source": [
        "nama = (\"masukkan nama\")\n",
        "print(\"Halo[andrian dwikaka]! Selamat belajar python\")"
      ]
    },
    {
      "cell_type": "code",
      "source": [
        "panjang = input(\"masukan nilai panjang:\")\n",
        "lebar = input(\"masukan nilai lebar:\")\n",
        "luas = int(panjang) * int(lebar)\n",
        "print(\"luas persegi panjang adalah\", luas)"
      ],
      "metadata": {
        "colab": {
          "base_uri": "https://localhost:8080/"
        },
        "id": "csTmGAdgKyvf",
        "outputId": "d643215b-c66d-4054-f16e-9cda2743058d"
      },
      "execution_count": 2,
      "outputs": [
        {
          "output_type": "stream",
          "name": "stdout",
          "text": [
            "masukan nilai panjang:5\n",
            "masukan nilai lebar:3\n",
            "luas persegi panjang adalah 15\n"
          ]
        }
      ]
    },
    {
      "cell_type": "code",
      "source": [
        "# masukan bilangan ganjil\n",
        "Bilangan = input(\"masukan nilai angka:\")\n",
        "if int(Bilangan) % 2 == 0:\n",
        "  print(\"Bilangan genap\")\n",
        "else:\n",
        "  print(\"Bilangan ganjil\")"
      ],
      "metadata": {
        "colab": {
          "base_uri": "https://localhost:8080/"
        },
        "id": "OSzri-x3K--F",
        "outputId": "1cb3b240-bdd7-4940-d93e-92342ce7729e"
      },
      "execution_count": 3,
      "outputs": [
        {
          "output_type": "stream",
          "name": "stdout",
          "text": [
            "masukan nilai angka:3\n",
            "Bilangan ganjil\n"
          ]
        }
      ]
    },
    {
      "cell_type": "code",
      "source": [
        "for i in range(1,21):\n",
        "  print(i, end=\" \")\n",
        ""
      ],
      "metadata": {
        "colab": {
          "base_uri": "https://localhost:8080/"
        },
        "id": "ygw5WvbtLGWy",
        "outputId": "30ea831c-5221-46e6-81a1-84255550621b"
      },
      "execution_count": 4,
      "outputs": [
        {
          "output_type": "stream",
          "name": "stdout",
          "text": [
            "1 2 3 4 5 6 7 8 9 10 11 12 13 14 15 16 17 18 19 20 "
          ]
        }
      ]
    },
    {
      "cell_type": "code",
      "source": [
        "a = int(input(\"masukan nilai pertama:\"))\n",
        "b = int(input(\"masukan nilai kedua:\"))\n",
        "\n",
        "jumlah = 0\n",
        "\n",
        "for i in range(a, b + 1):\n",
        "  jumlah += i # menentukan dari setiap bilangan ke jumlah\n",
        "\n",
        "# mencetak jumlah\n",
        "print(\"jumlah semua bilangan antara\", a, \"dan\", \"adalah:\", jumlah)"
      ],
      "metadata": {
        "colab": {
          "base_uri": "https://localhost:8080/"
        },
        "id": "YxgNzTTeLOJD",
        "outputId": "3fb26a0d-b04e-4e3a-dfca-56d6b27058e5"
      },
      "execution_count": 5,
      "outputs": [
        {
          "output_type": "stream",
          "name": "stdout",
          "text": [
            "masukan nilai pertama:3\n",
            "masukan nilai kedua:7\n",
            "jumlah semua bilangan antara 3 dan adalah: 25\n"
          ]
        }
      ]
    },
    {
      "cell_type": "code",
      "source": [
        "a = int(input(\"masukan nilai pertama:\"))\n",
        "b = int(input(\"masukan nilai kedua:\"))\n",
        "print(f\"bilangan genap dari rentang {a} sampai {b}:\")\n",
        "for i in range(a, b + 1):\n",
        "  if i % 2 == 0:\n",
        "    print(i)"
      ],
      "metadata": {
        "colab": {
          "base_uri": "https://localhost:8080/"
        },
        "id": "ovb5gVKDLUo2",
        "outputId": "7c34506c-d348-4cd0-b3f0-8112e0baa9e3"
      },
      "execution_count": 6,
      "outputs": [
        {
          "output_type": "stream",
          "name": "stdout",
          "text": [
            "masukan nilai pertama:3\n",
            "masukan nilai kedua:10\n",
            "bilangan genap dari rentang 3 sampai 10:\n",
            "4\n",
            "6\n",
            "8\n",
            "10\n"
          ]
        }
      ]
    },
    {
      "cell_type": "code",
      "source": [
        "a = [5, 2, 8, 1]\n",
        "print(a[::-1])"
      ],
      "metadata": {
        "colab": {
          "base_uri": "https://localhost:8080/"
        },
        "id": "_1LUlzitLlWf",
        "outputId": "516ce2cb-e0c6-4b45-c086-c34086f7e612"
      },
      "execution_count": 7,
      "outputs": [
        {
          "output_type": "stream",
          "name": "stdout",
          "text": [
            "[1, 8, 2, 5]\n"
          ]
        }
      ]
    }
  ]
}